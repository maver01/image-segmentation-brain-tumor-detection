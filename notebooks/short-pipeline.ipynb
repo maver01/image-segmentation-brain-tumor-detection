{
 "cells": [
  {
   "cell_type": "markdown",
   "metadata": {},
   "source": [
    "# Short pipeline\n",
    "\n",
    "Contains only the main code necessary to run this project. No additional visualisations or performance improvements."
   ]
  },
  {
   "cell_type": "markdown",
   "metadata": {},
   "source": [
    "## 1. Imports"
   ]
  },
  {
   "cell_type": "code",
   "execution_count": 2,
   "metadata": {},
   "outputs": [
    {
     "name": "stderr",
     "output_type": "stream",
     "text": [
      "2024-09-26 16:00:55.288191: I tensorflow/core/util/port.cc:153] oneDNN custom operations are on. You may see slightly different numerical results due to floating-point round-off errors from different computation orders. To turn them off, set the environment variable `TF_ENABLE_ONEDNN_OPTS=0`.\n",
      "2024-09-26 16:00:55.293423: I external/local_xla/xla/tsl/cuda/cudart_stub.cc:32] Could not find cuda drivers on your machine, GPU will not be used.\n",
      "2024-09-26 16:00:55.340121: I external/local_xla/xla/tsl/cuda/cudart_stub.cc:32] Could not find cuda drivers on your machine, GPU will not be used.\n",
      "2024-09-26 16:00:55.385948: E external/local_xla/xla/stream_executor/cuda/cuda_fft.cc:485] Unable to register cuFFT factory: Attempting to register factory for plugin cuFFT when one has already been registered\n",
      "2024-09-26 16:00:55.424047: E external/local_xla/xla/stream_executor/cuda/cuda_dnn.cc:8454] Unable to register cuDNN factory: Attempting to register factory for plugin cuDNN when one has already been registered\n",
      "2024-09-26 16:00:55.435115: E external/local_xla/xla/stream_executor/cuda/cuda_blas.cc:1452] Unable to register cuBLAS factory: Attempting to register factory for plugin cuBLAS when one has already been registered\n",
      "2024-09-26 16:00:55.525989: I tensorflow/core/platform/cpu_feature_guard.cc:210] This TensorFlow binary is optimized to use available CPU instructions in performance-critical operations.\n",
      "To enable the following instructions: AVX2 AVX_VNNI FMA, in other operations, rebuild TensorFlow with the appropriate compiler flags.\n",
      "2024-09-26 16:00:56.210734: W tensorflow/compiler/tf2tensorrt/utils/py_utils.cc:38] TF-TRT Warning: Could not find TensorRT\n"
     ]
    }
   ],
   "source": [
    "import os\n",
    "import pandas as pd\n",
    "import numpy as np\n",
    "import random\n",
    "import shutil\n",
    "from shutil import copyfile\n",
    "import tensorflow as tf\n",
    "from tensorflow.keras.preprocessing import image\n",
    "from tensorflow.keras.preprocessing.image import ImageDataGenerator, img_to_array, load_img\n",
    "from tensorflow.keras import Model\n",
    "import matplotlib.pyplot as plt\n",
    "import matplotlib.image as mpimg\n",
    "from matplotlib.offsetbox import (TextArea, DrawingArea, OffsetImage,\n",
    "                                  AnnotationBbox)\n",
    "import matplotlib.patches as mpatches\n",
    "from sklearn.utils import shuffle\n",
    "from tqdm import tqdm"
   ]
  },
  {
   "cell_type": "code",
   "execution_count": 3,
   "metadata": {},
   "outputs": [],
   "source": [
    "base_dir  = \"/home/maver02/Projects/Infrastructure_suite_project/Development/find-the-dog-project/CLOUD/data/image-segmentation-brain-tumor/\"\n",
    "os.chdir(base_dir)"
   ]
  },
  {
   "cell_type": "markdown",
   "metadata": {},
   "source": [
    "## 2. Data Processing"
   ]
  },
  {
   "cell_type": "code",
   "execution_count": 4,
   "metadata": {},
   "outputs": [
    {
     "data": {
      "text/html": [
       "<div>\n",
       "<style scoped>\n",
       "    .dataframe tbody tr th:only-of-type {\n",
       "        vertical-align: middle;\n",
       "    }\n",
       "\n",
       "    .dataframe tbody tr th {\n",
       "        vertical-align: top;\n",
       "    }\n",
       "\n",
       "    .dataframe thead th {\n",
       "        text-align: right;\n",
       "    }\n",
       "</style>\n",
       "<table border=\"1\" class=\"dataframe\">\n",
       "  <thead>\n",
       "    <tr style=\"text-align: right;\">\n",
       "      <th></th>\n",
       "      <th>Image</th>\n",
       "      <th>Class</th>\n",
       "    </tr>\n",
       "  </thead>\n",
       "  <tbody>\n",
       "    <tr>\n",
       "      <th>0</th>\n",
       "      <td>Image1</td>\n",
       "      <td>0</td>\n",
       "    </tr>\n",
       "    <tr>\n",
       "      <th>1</th>\n",
       "      <td>Image2</td>\n",
       "      <td>0</td>\n",
       "    </tr>\n",
       "    <tr>\n",
       "      <th>2</th>\n",
       "      <td>Image3</td>\n",
       "      <td>1</td>\n",
       "    </tr>\n",
       "    <tr>\n",
       "      <th>3</th>\n",
       "      <td>Image4</td>\n",
       "      <td>1</td>\n",
       "    </tr>\n",
       "    <tr>\n",
       "      <th>4</th>\n",
       "      <td>Image5</td>\n",
       "      <td>0</td>\n",
       "    </tr>\n",
       "  </tbody>\n",
       "</table>\n",
       "</div>"
      ],
      "text/plain": [
       "    Image  Class\n",
       "0  Image1      0\n",
       "1  Image2      0\n",
       "2  Image3      1\n",
       "3  Image4      1\n",
       "4  Image5      0"
      ]
     },
     "metadata": {},
     "output_type": "display_data"
    },
    {
     "name": "stdout",
     "output_type": "stream",
     "text": [
      "(3762, 2)\n"
     ]
    }
   ],
   "source": [
    "df = pd.read_csv(os.path.join(base_dir + \"Brain Tumor.csv\"))[['Image', 'Class']]\n",
    "display(df.head())\n",
    "print(df.shape)"
   ]
  },
  {
   "cell_type": "code",
   "execution_count": 5,
   "metadata": {},
   "outputs": [],
   "source": [
    "# Split Training + Validation with Testing Set\n",
    "def split_size(df, size):\n",
    "    \"\"\"\n",
    "    Calculate the split size based on the given fraction of the DataFrame length.\n",
    "    \"\"\"\n",
    "    return int(size * len(df))\n",
    "\n",
    "\n",
    "train_labels = df['Class'].values[:split_size(df, 0.8)]\n",
    "train_file_names = df['Image'].values[:split_size(df, 0.8)]\n",
    "\n",
    "val_labels = df['Class'].values[split_size(df, 0.8):split_size(df, 0.9)]\n",
    "val_file_names = df['Image'].values[split_size(df, 0.8):split_size(df, 0.9)]\n",
    "\n",
    "test_labels = df['Class'].values[split_size(df, 0.9):]\n",
    "test_file_names = df['Image'].values[split_size(df, 0.9):]\n",
    "\n",
    "# labels are arrays of 1 or 0, names are arrays of image file names"
   ]
  },
  {
   "cell_type": "code",
   "execution_count": 6,
   "metadata": {},
   "outputs": [],
   "source": [
    "# Split Training + Validation with Testing Set\n",
    "def split_array_labels(arr_image, arr_label):\n",
    "    \"\"\"\n",
    "    Split the array of images and labels into two separate arrays based on the label.\n",
    "    \"\"\"\n",
    "    arr_image_0 = arr_image[np.where(arr_label==0)]\n",
    "    arr_image_1 = arr_image[np.where(arr_label==1)]\n",
    "    return {'0':arr_image_0, '1':arr_image_1}\n",
    "\n",
    "train_arr_dict = split_array_labels(train_file_names, train_labels)\n",
    "val_arr_dict = split_array_labels(val_file_names, val_labels)\n",
    "test_arr_dict = split_array_labels(test_file_names, test_labels)\n",
    "\n",
    "# each is a dictionary with keys '0' and '1', values are arrays of file names"
   ]
  },
  {
   "cell_type": "code",
   "execution_count": 7,
   "metadata": {},
   "outputs": [
    {
     "name": "stdout",
     "output_type": "stream",
     "text": [
      "Remove old directories\n",
      "Created empty  training, validation and testing directories\n"
     ]
    },
    {
     "name": "stderr",
     "output_type": "stream",
     "text": [
      "100%|██████████| 2/2 [00:00<00:00,  4.43it/s]"
     ]
    },
    {
     "name": "stdout",
     "output_type": "stream",
     "text": [
      "Created training, validation and testing directories containing images\n"
     ]
    },
    {
     "name": "stderr",
     "output_type": "stream",
     "text": [
      "\n"
     ]
    }
   ],
   "source": [
    "# create directories for training, validation and testing\n",
    "def create_empty_directories(base_dir):\n",
    "    # in case you want to run it several times, delete the directory and create new one\n",
    "    check_exist_path = os.path.join(base_dir, '_MODELLING')\n",
    "    if os.path.isdir(check_exist_path):\n",
    "        shutil.rmtree(check_exist_path)\n",
    "        print(\"Remove old directories\")\n",
    "    \n",
    "    for label in ['0','1']:\n",
    "        training_dir = os.path.join(base_dir, '_MODELLING', 'training', label)\n",
    "        validation_dir = os.path.join(base_dir, '_MODELLING', 'validation', label)\n",
    "        testing_dir = os.path.join(base_dir, '_MODELLING', 'testing', label)    \n",
    "        os.makedirs(training_dir)\n",
    "        os.makedirs(validation_dir)\n",
    "        os.makedirs(testing_dir)\n",
    "\n",
    "    print(f\"Created empty  training, validation and testing directories\")\n",
    "\n",
    "create_empty_directories(base_dir)\n",
    "\n",
    "# copy data into the directories\n",
    "def split_data(SOURCE_DIR, train_arr_dict, val_arr_dict, test_arr_dict):\n",
    "    for label in tqdm(['0','1']):\n",
    "        for file_name in train_arr_dict[label]:\n",
    "            file_name = f\"{file_name}.jpg\"\n",
    "            source = os.path.join(SOURCE_DIR, 'Brain Tumor', 'Brain Tumor', file_name)\n",
    "            destination = os.path.join(base_dir, '_MODELLING', 'training', label, file_name)\n",
    "            copyfile(source, destination)\n",
    "\n",
    "        for file_name in val_arr_dict[label]:\n",
    "            file_name = f\"{file_name}.jpg\"\n",
    "            source = os.path.join(SOURCE_DIR, 'Brain Tumor', 'Brain Tumor', file_name)\n",
    "            destination = os.path.join(base_dir, '_MODELLING', 'validation', label, file_name)\n",
    "            copyfile(source, destination)\n",
    "        \n",
    "        for file_name in test_arr_dict[label]:\n",
    "            file_name = f\"{file_name}.jpg\"\n",
    "            source = os.path.join(SOURCE_DIR, 'Brain Tumor', 'Brain Tumor', file_name)\n",
    "            destination = os.path.join(base_dir, '_MODELLING', 'testing', label, file_name)\n",
    "            copyfile(source, destination)\n",
    "    print(f\"Created training, validation and testing directories containing images\")\n",
    "    \n",
    "split_data(base_dir, train_arr_dict, val_arr_dict, test_arr_dict)"
   ]
  },
  {
   "cell_type": "markdown",
   "metadata": {},
   "source": [
    "Now the folders contain the data. Data augmentation, and training can be performed."
   ]
  },
  {
   "cell_type": "markdown",
   "metadata": {},
   "source": [
    "## 3. Modelling"
   ]
  },
  {
   "cell_type": "code",
   "execution_count": 8,
   "metadata": {},
   "outputs": [
    {
     "data": {
      "text/plain": [
       "<Experiment: artifact_location='mlflow-artifacts:/881152748453209801', creation_time=1727189773129, experiment_id='881152748453209801', last_update_time=1727189773129, lifecycle_stage='active', name='Training_Brain_Tumor', tags={}>"
      ]
     },
     "execution_count": 8,
     "metadata": {},
     "output_type": "execute_result"
    }
   ],
   "source": [
    "import mlflow\n",
    "mlflow.set_tracking_uri(\"http://localhost:5000\")\n",
    "\n",
    "# Create a new MLflow Experiment\n",
    "mlflow.set_experiment(\"Training_Brain_Tumor\")\n"
   ]
  },
  {
   "cell_type": "markdown",
   "metadata": {},
   "source": [
    "### 3.1. Model 1 without data augmentation"
   ]
  },
  {
   "cell_type": "markdown",
   "metadata": {},
   "source": [
    "Create the generator. "
   ]
  },
  {
   "cell_type": "code",
   "execution_count": 9,
   "metadata": {},
   "outputs": [
    {
     "name": "stdout",
     "output_type": "stream",
     "text": [
      "Found 3009 images belonging to 2 classes.\n",
      "Found 376 images belonging to 2 classes.\n",
      "Found 377 images belonging to 2 classes.\n"
     ]
    }
   ],
   "source": [
    "# Loads the data from the directories, preprocesses the images \n",
    "# and creates the generators\n",
    "\n",
    "modelling_base_dir = os.path.join(base_dir, '_MODELLING')\n",
    "os.chdir(modelling_base_dir)\n",
    "\n",
    "def train_val_generators(TRAINING_DIR, VALIDATION_DIR, TEST_DIR):\n",
    "\n",
    "    # Instantiate the ImageDataGenerator class without augmentation parameters\n",
    "    train_datagen = ImageDataGenerator(rescale=1./127.5)\n",
    "\n",
    "    # Pass in the appropriate arguments to the flow_from_directory method\n",
    "    train_generator = train_datagen.flow_from_directory(directory=TRAINING_DIR,\n",
    "                                                      batch_size=32,\n",
    "                                                      class_mode='binary',\n",
    "                                                      target_size=(150, 150))\n",
    "\n",
    "    # Instantiate the ImageDataGenerator class (don't forget to set the rescale argument)\n",
    "    valid_or_test_datagen = ImageDataGenerator(rescale=1./127.5)\n",
    "\n",
    "    # Pass in the appropriate arguments to the flow_from_directory method\n",
    "    validation_generator = valid_or_test_datagen.flow_from_directory(directory=VALIDATION_DIR,\n",
    "                                                                batch_size=32,\n",
    "                                                                class_mode='binary',\n",
    "                                                                target_size=(150, 150))\n",
    "    \n",
    "    test_generator = valid_or_test_datagen.flow_from_directory(directory=TEST_DIR,\n",
    "                                                                batch_size=32,\n",
    "                                                                class_mode='binary',\n",
    "                                                                target_size=(150, 150))\n",
    "    return train_generator, validation_generator, test_generator\n",
    "\n",
    "training_dir = os.path.join(modelling_base_dir, 'training')\n",
    "validation_dir = os.path.join(modelling_base_dir, 'validation')\n",
    "testing_dir = os.path.join(modelling_base_dir, 'testing')\n",
    "\n",
    "train_generator, validation_generator, test_generator = train_val_generators(training_dir, validation_dir, testing_dir)\n",
    "\n",
    "# train generator is a directory iterator, which yields batches of images that are preprocessed with the ImageDataGenerator\n"
   ]
  },
  {
   "cell_type": "code",
   "execution_count": 71,
   "metadata": {},
   "outputs": [
    {
     "name": "stderr",
     "output_type": "stream",
     "text": [
      "/tmp/ipykernel_9640/3331885118.py:2: UserWarning: `input_shape` is undefined or non-square, or `rows` is not in [96, 128, 160, 192, 224]. Weights for input shape (224, 224) will be loaded as the default.\n",
      "  base_model = tf.keras.applications.MobileNetV2(input_shape=(150, 150, 3),\n"
     ]
    },
    {
     "name": "stdout",
     "output_type": "stream",
     "text": [
      "\u001b[1m95/95\u001b[0m \u001b[32m━━━━━━━━━━━━━━━━━━━━\u001b[0m\u001b[37m\u001b[0m \u001b[1m27s\u001b[0m 262ms/step - accuracy: 0.8346 - loss: 1.7706 - val_accuracy: 0.8963 - val_loss: 0.5004\n",
      "\u001b[1m1/1\u001b[0m \u001b[32m━━━━━━━━━━━━━━━━━━━━\u001b[0m\u001b[37m\u001b[0m \u001b[1m1s\u001b[0m 602ms/step\n"
     ]
    },
    {
     "name": "stderr",
     "output_type": "stream",
     "text": [
      "Registered model 'Brain_Tumor_Model_v1' already exists. Creating a new version of this model...\n",
      "2024/09/26 18:00:50 INFO mlflow.store.model_registry.abstract_store: Waiting up to 300 seconds for model version to finish creation. Model name: Brain_Tumor_Model_v1, version 4\n",
      "Created version '4' of model 'Brain_Tumor_Model_v1'.\n",
      "2024/09/26 18:00:50 INFO mlflow.tracking._tracking_service.client: 🏃 View run learned-hare-855 at: http://localhost:5000/#/experiments/881152748453209801/runs/22705df023f54984b5830eeedb81d432.\n",
      "2024/09/26 18:00:50 INFO mlflow.tracking._tracking_service.client: 🧪 View experiment at: http://localhost:5000/#/experiments/881152748453209801.\n"
     ]
    }
   ],
   "source": [
    "\n",
    "# Initiate base model\n",
    "base_model = tf.keras.applications.MobileNetV2(input_shape=(150, 150, 3),\n",
    "                                               include_top=False,\n",
    "                                               weights='imagenet')\n",
    "# Layers of the base model will not be updated during training.\n",
    "base_model.trainable = False\n",
    "\n",
    "# Output layer of the base model becomes inut to additinal custom layer\n",
    "last_output = base_model.output\n",
    "\n",
    "# takes output of the base model and adds additional layers on top of it\n",
    "def transfer_learning(last_output, pre_trained_model):\n",
    "    \"\"\"\n",
    "    Applies transfer learning to a pre-trained model by adding custom layers.\n",
    "    Args:\n",
    "        last_output (tf.Tensor): The output tensor from the last layer of the pre-trained model.\n",
    "        pre_trained_model (tf.keras.Model): The pre-trained model to which new layers will be added.\n",
    "    Returns:\n",
    "        tf.keras.Model: A new model with the added custom layers on top of the pre-trained model.\n",
    "    \"\"\"\n",
    "    # Flatten the output layer to 1 dimension\n",
    "    x = tf.keras.layers.Flatten()(last_output)\n",
    "    # Add a fully connected layer with 1024 hidden units and ReLU activation\n",
    "    x = tf.keras.layers.Dense(1024, activation='relu')(x)\n",
    "    # Add a dropout rate of 0.6\n",
    "    x = tf.keras.layers.Dropout(0.6)(x)  \n",
    "    # Add a final sigmoid layer for classification\n",
    "    x = tf.keras.layers.Dense(1, activation='sigmoid')(x)          \n",
    "    # Create the complete model by using the Model class\n",
    "    model = Model(inputs=pre_trained_model.input, outputs=x)\n",
    "    \n",
    "    return model\n",
    "\n",
    "\n",
    "# Train the model\n",
    "from mlflow.models import infer_signature\n",
    "\n",
    "with mlflow.start_run() as run:\n",
    "\n",
    "    # Create the model\n",
    "    model = transfer_learning(last_output, base_model)\n",
    "\n",
    "    # stop training if the validation loss does not decrease for 3 consecutive epochs\n",
    "    callback = tf.keras.callbacks.EarlyStopping(monitor='val_loss', patience=3)\n",
    "\n",
    "    # set model configuration\n",
    "    model.compile(optimizer = tf.keras.optimizers.Adam(learning_rate = 0.0003),\n",
    "                loss = 'binary_crossentropy',\n",
    "                metrics=['accuracy'])\n",
    "\n",
    "    params = {'epochs': 5, 'batch_size': 32, 'lr': 0.0003}\n",
    "    # now the model is ready to be trained\n",
    "\n",
    "\n",
    "    # Train the model\n",
    "    history = model.fit(train_generator,\n",
    "                            validation_data=validation_generator,\n",
    "                            epochs=1,\n",
    "                            callbacks=[callback]) \n",
    "    \n",
    "    # Infer the model signature\n",
    "    signature = infer_signature(train_generator[0][0], model.predict(train_generator[0][0]))\n",
    "\n",
    "    # Log parameters and metrics using the MLflow APIs\n",
    "    mlflow.log_params(params)\n",
    "\n",
    "    mlflow.tensorflow.log_model(\n",
    "            model=model,\n",
    "            artifact_path = \"model\",\n",
    "            signature=signature,\n",
    "            registered_model_name=\"Brain_Tumor_Model_v1\"\n",
    "    )\n",
    "\n",
    "    "
   ]
  },
  {
   "cell_type": "markdown",
   "metadata": {},
   "source": [
    "Load image and deploy model"
   ]
  },
  {
   "cell_type": "code",
   "execution_count": 74,
   "metadata": {},
   "outputs": [
    {
     "name": "stdout",
     "output_type": "stream",
     "text": [
      "\u001b[1m1/1\u001b[0m \u001b[32m━━━━━━━━━━━━━━━━━━━━\u001b[0m\u001b[37m\u001b[0m \u001b[1m0s\u001b[0m 28ms/step\n"
     ]
    },
    {
     "data": {
      "image/png": "[encoded data removed]",
      "text/plain": [
       "<Figure size 640x480 with 1 Axes>"
      ]
     },
     "metadata": {},
     "output_type": "display_data"
    }
   ],
   "source": [
    "testing_base_dir = os.path.join(modelling_base_dir, 'testing')\n",
    "# load random image from the testing set\n",
    "random_image = random.choice(os.listdir(os.path.join(testing_base_dir, '0')))\n",
    "y_true = '0'\n",
    "img = image.load_img(os.path.join(testing_base_dir, '0', random_image), target_size=(150, 150))\n",
    "\n",
    "x = image.img_to_array(img)\n",
    "\n",
    "x /= 127.5\n",
    "x = np.expand_dims(x, axis=0)\n",
    "preprocess_images = np.vstack([x])\n",
    "\n",
    "# predict the label of the image\n",
    "classes = model.predict(preprocess_images)\n",
    "score = tf.nn.sigmoid(classes[0])\n",
    "if classes[0]>0.5:\n",
    "    predicted_label = 1\n",
    "else:\n",
    "    predicted_label = 0\n",
    "plt.title(f'True Label: {y_true} \\n Predicted Label: {predicted_label} with a {100 * np.max(score):.2f} percent confidence.')\n",
    "plt.imshow(img)\n",
    "plt.show()"
   ]
  },
  {
   "cell_type": "code",
   "execution_count": 75,
   "metadata": {},
   "outputs": [
    {
     "name": "stderr",
     "output_type": "stream",
     "text": [
      "Downloading artifacts:  29%|██▊       | 2/7 [00:00<00:00, 2309.64it/s] "
     ]
    },
    {
     "name": "stderr",
     "output_type": "stream",
     "text": [
      "Downloading artifacts: 100%|██████████| 7/7 [00:03<00:00,  1.87it/s]  \n"
     ]
    }
   ],
   "source": [
    "import mlflow.pyfunc\n",
    "\n",
    "model_name = \"Brain_Tumor_Model_v1\"\n",
    "model_version = 3\n",
    "\n",
    "model_for_inference = mlflow.pyfunc.load_model(model_uri=f\"models:/{model_name}/{model_version}\")"
   ]
  },
  {
   "cell_type": "code",
   "execution_count": 91,
   "metadata": {},
   "outputs": [
    {
     "name": "stdout",
     "output_type": "stream",
     "text": [
      "mlflow-artifacts:/881152748453209801/bffa76578b2a404492a03e34e11341ec/artifacts/models:/Brain_Tumor_Model_v1/3\n"
     ]
    }
   ],
   "source": [
    "import mlflow\n",
    "model_uri = f\"models:/{model_name}/{model_version}\"\n",
    "print(mlflow.get_artifact_uri(model_uri))"
   ]
  },
  {
   "cell_type": "code",
   "execution_count": 90,
   "metadata": {},
   "outputs": [
    {
     "name": "stdout",
     "output_type": "stream",
     "text": [
      "\u001b[1m1/1\u001b[0m \u001b[32m━━━━━━━━━━━━━━━━━━━━\u001b[0m\u001b[37m\u001b[0m \u001b[1m0s\u001b[0m 33ms/step\n"
     ]
    },
    {
     "data": {
      "image/png": "[encoded data removed]",
      "text/plain": [
       "<Figure size 640x480 with 1 Axes>"
      ]
     },
     "metadata": {},
     "output_type": "display_data"
    }
   ],
   "source": [
    "testing_base_dir = os.path.join(modelling_base_dir, 'testing')\n",
    "true_label = '0'\n",
    "# load random image from the testing set\n",
    "random_image = random.choice(os.listdir(os.path.join(testing_base_dir, true_label)))\n",
    "img = image.load_img(os.path.join(testing_base_dir, true_label, random_image), target_size=(150, 150))\n",
    "\n",
    "x = image.img_to_array(img)\n",
    "\n",
    "x /= 127.5\n",
    "x = np.expand_dims(x, axis=0)\n",
    "preprocess_images = np.vstack([x])\n",
    "\n",
    "# predict the label of the image\n",
    "classes = model_for_inference.predict(preprocess_images)\n",
    "score = tf.nn.sigmoid(classes[0])\n",
    "if classes[0]>0.5:\n",
    "    predicted_label = 1\n",
    "else:\n",
    "    predicted_label = 0\n",
    "plt.title(f'True Label: {true_label} \\n Predicted Label: {predicted_label} with a {100 * np.max(score):.2f} percent confidence.')\n",
    "plt.imshow(img)\n",
    "plt.show()"
   ]
  },
  {
   "cell_type": "markdown",
   "metadata": {},
   "source": [
    "### 3.2. Model 2 - Data augmentation"
   ]
  },
  {
   "cell_type": "code",
   "execution_count": null,
   "metadata": {},
   "outputs": [],
   "source": [
    "# Loads the data from the directories, preprocesses the images \n",
    "# and creates the generators\n",
    "\n",
    "modelling_base_dir = os.path.join(base_dir, '_MODELLING')\n",
    "os.chdir(modelling_base_dir)\n",
    "\n",
    "def train_val_generators(TRAINING_DIR, VALIDATION_DIR, TEST_DIR):\n",
    "\n",
    "    # Instantiate the ImageDataGenerator class (don't forget to set the arguments to augment the images)\n",
    "    train_datagen = ImageDataGenerator(rescale=1./127.5,\n",
    "                                       rotation_range=30,\n",
    "                                       width_shift_range=0.2,\n",
    "                                       height_shift_range=0.2,\n",
    "                                       shear_range=0.2,\n",
    "                                       zoom_range=0.2,\n",
    "                                    horizontal_flip=True,\n",
    "                                    fill_mode='nearest')\n",
    "\n",
    "    # Pass in the appropriate arguments to the flow_from_directory method\n",
    "    train_generator = train_datagen.flow_from_directory(directory=TRAINING_DIR,\n",
    "                                                      batch_size=32,\n",
    "                                                      class_mode='binary',\n",
    "                                                      target_size=(150, 150))\n",
    "\n",
    "    # Instantiate the ImageDataGenerator class (don't forget to set the rescale argument)\n",
    "    valid_or_test_datagen = ImageDataGenerator(rescale=1./127.5)\n",
    "\n",
    "    # Pass in the appropriate arguments to the flow_from_directory method\n",
    "    validation_generator = valid_or_test_datagen.flow_from_directory(directory=VALIDATION_DIR,\n",
    "                                                                batch_size=32,\n",
    "                                                                class_mode='binary',\n",
    "                                                                target_size=(150, 150))\n",
    "    \n",
    "    test_generator = valid_or_test_datagen.flow_from_directory(directory=TEST_DIR,\n",
    "                                                                batch_size=32,\n",
    "                                                                class_mode='binary',\n",
    "                                                                target_size=(150, 150))\n",
    "    return train_generator, validation_generator, test_generator\n",
    "\n",
    "training_dir = os.path.join(modelling_base_dir, 'training')\n",
    "validation_dir = os.path.join(modelling_base_dir, 'validation')\n",
    "testing_dir = os.path.join(modelling_base_dir, 'testing')\n",
    "\n",
    "train_generator, validation_generator, test_generator = train_val_generators(training_dir, validation_dir, testing_dir)\n",
    "\n",
    "# train generator is a directory iterator, which yields batches of images that are preprocessed with the ImageDataGenerator"
   ]
  },
  {
   "cell_type": "code",
   "execution_count": null,
   "metadata": {},
   "outputs": [],
   "source": [
    "# Initiate base model\n",
    "base_model = tf.keras.applications.MobileNetV2(input_shape=(150, 150, 3),\n",
    "                                               include_top=False,\n",
    "                                               weights='imagenet')\n",
    "# Layers of the base model will not be updated during training.\n",
    "base_model.trainable = False\n",
    "\n",
    "# Output layer of the base model becomes inut to additinal custom layer\n",
    "last_output = base_model.output\n",
    "\n",
    "# takes output of the base model and adds additional layers on top of it\n",
    "def transfer_learning(last_output, pre_trained_model):\n",
    "    \"\"\"\n",
    "    Applies transfer learning to a pre-trained model by adding custom layers.\n",
    "    Args:\n",
    "        last_output (tf.Tensor): The output tensor from the last layer of the pre-trained model.\n",
    "        pre_trained_model (tf.keras.Model): The pre-trained model to which new layers will be added.\n",
    "    Returns:\n",
    "        tf.keras.Model: A new model with the added custom layers on top of the pre-trained model.\n",
    "    \"\"\"\n",
    "    # Flatten the output layer to 1 dimension\n",
    "    x = tf.keras.layers.Flatten()(last_output)\n",
    "    # Add a fully connected layer with 1024 hidden units and ReLU activation\n",
    "    x = tf.keras.layers.Dense(1024, activation='relu')(x)\n",
    "    # Add a dropout rate of 0.6\n",
    "    x = tf.keras.layers.Dropout(0.6)(x)  \n",
    "    # Add a final sigmoid layer for classification\n",
    "    x = tf.keras.layers.Dense(1, activation='sigmoid')(x)          \n",
    "    # Create the complete model by using the Model class\n",
    "    model = Model(inputs=pre_trained_model.input, outputs=x)\n",
    "    \n",
    "    return model\n",
    "\n",
    "# Create the model\n",
    "model = transfer_learning(last_output, base_model)\n",
    "\n",
    "# stop training if the validation loss does not decrease for 3 consecutive epochs\n",
    "callback = tf.keras.callbacks.EarlyStopping(monitor='val_loss', patience=3)\n",
    "\n",
    "# set model configuration\n",
    "model.compile(optimizer = tf.keras.optimizers.Adam(learning_rate = 0.0003),\n",
    "            loss = 'binary_crossentropy',\n",
    "            metrics=['accuracy'])"
   ]
  },
  {
   "cell_type": "code",
   "execution_count": null,
   "metadata": {},
   "outputs": [],
   "source": [
    "# Train model and log it in MLFlow\n",
    "mlflow.tensorflow.autolog(checkpoint=True, checkpoint_save_best_only=False)\n",
    "\n",
    "with mlflow.start_run() as run:\n",
    "    history = model.fit(train_generator,\n",
    "                        validation_data=validation_generator,\n",
    "                        epochs=5,\n",
    "                        callbacks=[callback])   "
   ]
  }
 ],
 "metadata": {
  "kernelspec": {
   "display_name": "image-segmentation-brain-tumor-detection-9DtP8k10-py3.10",
   "language": "python",
   "name": "python3"
  },
  "language_info": {
   "codemirror_mode": {
    "name": "ipython",
    "version": 3
   },
   "file_extension": ".py",
   "mimetype": "text/x-python",
   "name": "python",
   "nbconvert_exporter": "python",
   "pygments_lexer": "ipython3",
   "version": "3.10.12"
  }
 },
 "nbformat": 4,
 "nbformat_minor": 2
}
